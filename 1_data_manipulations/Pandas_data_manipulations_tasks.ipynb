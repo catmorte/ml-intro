{
 "cells": [
  {
   "cell_type": "markdown",
   "id": "6d6010da",
   "metadata": {},
   "source": [
    "# How to complete this assignment\n",
    "First, download [this Kaggle dataset](https://www.kaggle.com/hugomathien/soccer) and extract *sqlite* database. You may need to register at https://www.kaggle.com/ beforehand. Then complete 15 graded tasks below, the score is given in brackets. Finally submit the resulting `.ipynb` file to rs-app Auto-test.\n",
    "\n",
    "- Do not delete or rename the variables given before the inscription `#your code here`, they are needed for the correct verification.\n",
    "- Do not change the code in the last Notebook cell, it is required for the server check.\n",
    "- Your Notebook must run completely without errors to be graded! Please check everything before submission by going *Cell -> Run All*"
   ]
  },
  {
   "cell_type": "markdown",
   "id": "0dbd5f9a",
   "metadata": {},
   "source": [
    "## Some important notes\n",
    "- If you need to **calculate the number of \"something\"** that means we expect you to assign an Integer to the given variable\n",
    "- If you need to **make a list of \"something\"** we expect you to assign a Python list with appropriate values to the given variable\n",
    "- If you need to find a **specifiс player, day of the week, team, etc.** we expect you to assign a String with the full name of the entity to the given variable (`player_name`, day of week full name, `team_name`, etc.)"
   ]
  },
  {
   "cell_type": "code",
   "execution_count": 3819,
   "id": "f52b1bac",
   "metadata": {},
   "outputs": [],
   "source": [
    "import sqlite3\n",
    "import pandas as pd\n",
    "import os\n",
    "\n",
    "pd.set_option('display.max_column', None)"
   ]
  },
  {
   "cell_type": "code",
   "execution_count": 3820,
   "id": "8ebe6afd",
   "metadata": {},
   "outputs": [],
   "source": [
    "# Leave that code unchanged, it is required for the server check!\n",
    "db = sqlite3.connect(os.environ.get(\"DB_PATH\") or 'database.sqlite')"
   ]
  },
  {
   "cell_type": "code",
   "execution_count": 3821,
   "id": "9860d0d0",
   "metadata": {},
   "outputs": [],
   "source": [
    "# You may load the data from SQL table directly to the Pandas dataframe as\n",
    "player_data = pd.read_sql(\"SELECT * FROM Player;\", db)"
   ]
  },
  {
   "cell_type": "code",
   "execution_count": 3822,
   "id": "7e69a7af",
   "metadata": {},
   "outputs": [
    {
     "data": {
      "text/html": [
       "<div>\n",
       "<style scoped>\n",
       "    .dataframe tbody tr th:only-of-type {\n",
       "        vertical-align: middle;\n",
       "    }\n",
       "\n",
       "    .dataframe tbody tr th {\n",
       "        vertical-align: top;\n",
       "    }\n",
       "\n",
       "    .dataframe thead th {\n",
       "        text-align: right;\n",
       "    }\n",
       "</style>\n",
       "<table border=\"1\" class=\"dataframe\">\n",
       "  <thead>\n",
       "    <tr style=\"text-align: right;\">\n",
       "      <th></th>\n",
       "      <th>id</th>\n",
       "      <th>player_api_id</th>\n",
       "      <th>player_name</th>\n",
       "      <th>player_fifa_api_id</th>\n",
       "      <th>birthday</th>\n",
       "      <th>height</th>\n",
       "      <th>weight</th>\n",
       "    </tr>\n",
       "  </thead>\n",
       "  <tbody>\n",
       "    <tr>\n",
       "      <th>0</th>\n",
       "      <td>1</td>\n",
       "      <td>505942</td>\n",
       "      <td>Aaron Appindangoye</td>\n",
       "      <td>218353</td>\n",
       "      <td>1992-02-29 00:00:00</td>\n",
       "      <td>182.88</td>\n",
       "      <td>187</td>\n",
       "    </tr>\n",
       "    <tr>\n",
       "      <th>1</th>\n",
       "      <td>2</td>\n",
       "      <td>155782</td>\n",
       "      <td>Aaron Cresswell</td>\n",
       "      <td>189615</td>\n",
       "      <td>1989-12-15 00:00:00</td>\n",
       "      <td>170.18</td>\n",
       "      <td>146</td>\n",
       "    </tr>\n",
       "    <tr>\n",
       "      <th>2</th>\n",
       "      <td>3</td>\n",
       "      <td>162549</td>\n",
       "      <td>Aaron Doran</td>\n",
       "      <td>186170</td>\n",
       "      <td>1991-05-13 00:00:00</td>\n",
       "      <td>170.18</td>\n",
       "      <td>163</td>\n",
       "    </tr>\n",
       "    <tr>\n",
       "      <th>3</th>\n",
       "      <td>4</td>\n",
       "      <td>30572</td>\n",
       "      <td>Aaron Galindo</td>\n",
       "      <td>140161</td>\n",
       "      <td>1982-05-08 00:00:00</td>\n",
       "      <td>182.88</td>\n",
       "      <td>198</td>\n",
       "    </tr>\n",
       "    <tr>\n",
       "      <th>4</th>\n",
       "      <td>5</td>\n",
       "      <td>23780</td>\n",
       "      <td>Aaron Hughes</td>\n",
       "      <td>17725</td>\n",
       "      <td>1979-11-08 00:00:00</td>\n",
       "      <td>182.88</td>\n",
       "      <td>154</td>\n",
       "    </tr>\n",
       "  </tbody>\n",
       "</table>\n",
       "</div>"
      ],
      "text/plain": [
       "   id  player_api_id         player_name  player_fifa_api_id  \\\n",
       "0   1         505942  Aaron Appindangoye              218353   \n",
       "1   2         155782     Aaron Cresswell              189615   \n",
       "2   3         162549         Aaron Doran              186170   \n",
       "3   4          30572       Aaron Galindo              140161   \n",
       "4   5          23780        Aaron Hughes               17725   \n",
       "\n",
       "              birthday  height  weight  \n",
       "0  1992-02-29 00:00:00  182.88     187  \n",
       "1  1989-12-15 00:00:00  170.18     146  \n",
       "2  1991-05-13 00:00:00  170.18     163  \n",
       "3  1982-05-08 00:00:00  182.88     198  \n",
       "4  1979-11-08 00:00:00  182.88     154  "
      ]
     },
     "execution_count": 3822,
     "metadata": {},
     "output_type": "execute_result"
    }
   ],
   "source": [
    "player_data.head()"
   ]
  },
  {
   "cell_type": "markdown",
   "id": "f8b23f3a",
   "metadata": {},
   "source": [
    "**Task 1 (0.25 point).** Calculate the number of players with a height between 180 and 190 inclusive"
   ]
  },
  {
   "cell_type": "code",
   "execution_count": 3823,
   "id": "7cd6f780",
   "metadata": {},
   "outputs": [],
   "source": [
    "players_180_190 = len(player_data[(player_data[\"height\"]<=190.0) & (player_data[\"height\"]>=180.0)])"
   ]
  },
  {
   "cell_type": "code",
   "execution_count": 3824,
   "id": "9d058065",
   "metadata": {},
   "outputs": [],
   "source": [
    "assert(isinstance(players_180_190, int))"
   ]
  },
  {
   "cell_type": "markdown",
   "id": "5a39f3bc",
   "metadata": {},
   "source": [
    "**Task 2 (0.25 point).** Calculate the number of players born in 1980. <br>\n",
    "**Hint:** you may want to cast your 'birthday' column to DateTime type by [pandas.to_datetime](https://pandas.pydata.org/docs/reference/api/pandas.to_datetime.html)"
   ]
  },
  {
   "cell_type": "code",
   "execution_count": 3825,
   "id": "ff21f7a2",
   "metadata": {},
   "outputs": [],
   "source": [
    "player_data['birthday'] = pd.to_datetime(player_data['birthday'])\n",
    "players_1980 = len(player_data[(player_data[\"birthday\"].dt.year == 1980)])"
   ]
  },
  {
   "cell_type": "code",
   "execution_count": 3826,
   "id": "e53cc066",
   "metadata": {},
   "outputs": [],
   "source": [
    "assert(isinstance(players_1980, int))"
   ]
  },
  {
   "cell_type": "markdown",
   "id": "70d1dea0",
   "metadata": {},
   "source": [
    "**Task 3 (0.25 point).** Make a list of the top 10 players with the highest weight sorted in descending order. If there are several players with the same weight put them in the lexicographic order by name."
   ]
  },
  {
   "cell_type": "code",
   "execution_count": 3827,
   "id": "b0dbdaf5",
   "metadata": {},
   "outputs": [],
   "source": [
    "highest_players = player_data.sort_values(by=[\"weight\", \"player_name\"], ascending=(False, True)).head(10)[\"player_name\"].values.tolist()"
   ]
  },
  {
   "cell_type": "code",
   "execution_count": 3828,
   "id": "40dabe0d",
   "metadata": {},
   "outputs": [],
   "source": [
    "assert(len(highest_players) == 10)\n",
    "assert(isinstance(highest_players, list))\n",
    "for i in range(10):\n",
    "    assert(isinstance(highest_players[i], str))"
   ]
  },
  {
   "cell_type": "markdown",
   "id": "ff30607f",
   "metadata": {},
   "source": [
    "**Task 4 (0.5 point).** Make a list of tuples containing years along with the number of players born in that year from 1980 up to 1990. <br>\n",
    "**Structure example**: [(1980, 123), (1981, 140) ..., (1990, 83)] -> There were born 123 players in 1980, there were born 140 players in 1981 and etc."
   ]
  },
  {
   "cell_type": "code",
   "execution_count": 3829,
   "id": "9b609f1c",
   "metadata": {},
   "outputs": [
    {
     "name": "stderr",
     "output_type": "stream",
     "text": [
      "C:\\Users\\Raman_Susla\\AppData\\Local\\Temp\\ipykernel_22444\\2465698832.py:2: SettingWithCopyWarning: \n",
      "A value is trying to be set on a copy of a slice from a DataFrame.\n",
      "Try using .loc[row_indexer,col_indexer] = value instead\n",
      "\n",
      "See the caveats in the documentation: https://pandas.pydata.org/pandas-docs/stable/user_guide/indexing.html#returning-a-view-versus-a-copy\n",
      "  ext_player_data[\"birthyear\"] = player_data[\"birthday\"].dt.year\n"
     ]
    }
   ],
   "source": [
    "ext_player_data = player_data[(player_data[\"birthday\"].dt.year >= 1980) & (player_data[\"birthday\"].dt.year <= 1990)]\n",
    "ext_player_data[\"birthyear\"] = player_data[\"birthday\"].dt.year\n",
    "years_born_players = [(idx,val) for idx, val in ext_player_data.groupby(\"birthyear\")[\"birthyear\"].size().iteritems()]"
   ]
  },
  {
   "cell_type": "code",
   "execution_count": 3830,
   "id": "64cbf754",
   "metadata": {},
   "outputs": [],
   "source": [
    "assert(len(years_born_players) == 11)\n",
    "assert(isinstance(years_born_players, list))\n",
    "for i in range(10):\n",
    "    assert(isinstance(years_born_players[i], tuple))\n",
    "    assert(isinstance(years_born_players[i][0], int))\n",
    "    assert(isinstance(years_born_players[i][1], int))"
   ]
  },
  {
   "cell_type": "markdown",
   "id": "33cbd931",
   "metadata": {},
   "source": [
    "**Task 5 (0.5 point).** Calculate the mean and the standard deviation of the players' **height** with the name **Adriano**. <br>\n",
    "**Note:** Name is represented by the first part of `player_name`."
   ]
  },
  {
   "cell_type": "code",
   "execution_count": 3831,
   "id": "614fac31",
   "metadata": {},
   "outputs": [],
   "source": [
    "player_data['first_name'] = player_data['player_name'].str.split(expand=True)[0]\n",
    "adriano_height_data = player_data[(player_data[\"first_name\"]==\"Adriano\")][\"height\"]\n",
    "adriano_mean, adriano_std = adriano_height_data.mean(), adriano_height_data.std()"
   ]
  },
  {
   "cell_type": "code",
   "execution_count": 3832,
   "id": "f508c49f",
   "metadata": {},
   "outputs": [],
   "source": [
    "assert(isinstance(adriano_mean, float))\n",
    "assert(isinstance(adriano_std, float))"
   ]
  },
  {
   "cell_type": "markdown",
   "id": "8a361dfd",
   "metadata": {},
   "source": [
    "**Task 6 (0.75 point).** How many players were born on each day of the week? Find the day of the week with the minimum number of players born."
   ]
  },
  {
   "cell_type": "code",
   "execution_count": 3833,
   "id": "c140be4f",
   "metadata": {},
   "outputs": [
    {
     "name": "stderr",
     "output_type": "stream",
     "text": [
      "C:\\Users\\Raman_Susla\\AppData\\Local\\Temp\\ipykernel_22444\\3448144573.py:1: SettingWithCopyWarning: \n",
      "A value is trying to be set on a copy of a slice from a DataFrame.\n",
      "Try using .loc[row_indexer,col_indexer] = value instead\n",
      "\n",
      "See the caveats in the documentation: https://pandas.pydata.org/pandas-docs/stable/user_guide/indexing.html#returning-a-view-versus-a-copy\n",
      "  ext_player_data[\"dof\"] = player_data[\"birthday\"].dt.day_name()\n"
     ]
    }
   ],
   "source": [
    "ext_player_data[\"dof\"] = player_data[\"birthday\"].dt.day_name()\n",
    "dow_with_min_players_born = ext_player_data.groupby(\"dof\")[\"dof\"].size().idxmin()"
   ]
  },
  {
   "cell_type": "code",
   "execution_count": 3834,
   "id": "fc041623",
   "metadata": {},
   "outputs": [],
   "source": [
    "assert(isinstance(dow_with_min_players_born, str))"
   ]
  },
  {
   "cell_type": "markdown",
   "id": "dc7428be",
   "metadata": {},
   "source": [
    "**Task 7 (0.75 point).** Find a league with the most matches in total. If there are several leagues with the same amount of matches, take the first in the lexical order."
   ]
  },
  {
   "cell_type": "code",
   "execution_count": 3835,
   "id": "ff3113ac",
   "metadata": {},
   "outputs": [],
   "source": [
    "match_data = pd.read_sql(\"SELECT * FROM Match;\", db)\n",
    "league_data = pd.read_sql(\"SELECT * FROM League;\", db)\n",
    "match_league_max = match_data.groupby(\"league_id\")[\"league_id\"].size()\n",
    "match_league_max = match_league_max.where(match_league_max == match_league_max.max()).dropna()\n",
    "league_most_matches = league_data.join(match_league_max, on=\"id\", how=\"right\")[\"name\"].min()"
   ]
  },
  {
   "cell_type": "code",
   "execution_count": 3836,
   "id": "390a265b",
   "metadata": {},
   "outputs": [],
   "source": [
    "assert(isinstance(league_most_matches, str))"
   ]
  },
  {
   "cell_type": "markdown",
   "id": "97199b7d",
   "metadata": {},
   "source": [
    "**Task 8 (1.25 point).** Find a player who participated in the largest number of matches during the whole match history. Assign a `player_name` to the given variable"
   ]
  },
  {
   "cell_type": "code",
   "execution_count": 3837,
   "id": "ec31bc69",
   "metadata": {},
   "outputs": [
    {
     "name": "stderr",
     "output_type": "stream",
     "text": [
      "C:\\Users\\Raman_Susla\\AppData\\Local\\Temp\\ipykernel_22444\\2465658099.py:7: DeprecationWarning: The default dtype for empty Series will be 'object' instead of 'float64' in a future version. Specify a dtype explicitly to silence this warning.\n",
      "  result_series = pd.Series()\n"
     ]
    }
   ],
   "source": [
    "from functools import reduce\n",
    "match_data_on = []\n",
    "for i in range(1, 12):\n",
    "  match_data_on.append(f'home_player_{i}')\n",
    "  match_data_on.append(f'away_player_{i}')\n",
    "\n",
    "result_series = pd.Series()\n",
    "for col in match_data_on:\n",
    "  result_series=result_series.add(match_data.groupby(col)[col].size(), fill_value=0)\n",
    "\n",
    "max_matches_player = player_data[player_data[\"player_api_id\"]==int(result_series.idxmax())][\"player_name\"].iat[0]"
   ]
  },
  {
   "cell_type": "code",
   "execution_count": 3838,
   "id": "00ec2e89",
   "metadata": {},
   "outputs": [],
   "source": [
    "assert(isinstance(max_matches_player, str))"
   ]
  },
  {
   "cell_type": "markdown",
   "id": "dbc68bfe",
   "metadata": {},
   "source": [
    "**Task 9 (1.5 point).** List top-5 tuples of most correlated **player's characteristics** in the descending order of the absolute [Pearson's coefficient](https://en.wikipedia.org/wiki/Pearson_correlation_coefficient) value.\n",
    "\n",
    "**Note 1:** Players characteristics are all the columns in `Player_Attributes` table except `[id, player_fifa_api_id, player_api_id, date, preferred_foot, attacking_work_rate, defensive_work_rate]`). <br>\n",
    "**Note 2:** Exclude duplicated pairs from the list. E.g. ('gk_handling', 'gk_reflexes') and ('gk_reflexes', 'gk_handling') are duplicates, leave just one of them in the resulting list.\n",
    "\n",
    "**Hint:** You may use [dataframe.corr()](https://pandas.pydata.org/docs/reference/api/pandas.DataFrame.corr.html) for calculating pairwise Pearson correlation."
   ]
  },
  {
   "cell_type": "code",
   "execution_count": 3839,
   "id": "47c1412e",
   "metadata": {},
   "outputs": [],
   "source": [
    "import numpy as np\n",
    "player_attributes_data = pd.read_sql(\"SELECT * FROM Player_Attributes;\", db)\n",
    "ext_player_attributes_data = player_attributes_data.loc[:, ~player_attributes_data.columns.isin(['id', 'player_fifa_api_id', 'player_api_id', 'date', 'preferred_foot', 'attacking_work_rate', 'defensive_work_rate'])]\n",
    "ext_player_attributes_data = ext_player_attributes_data.corr().abs()\n",
    "ext_player_attributes_data = ext_player_attributes_data.where(np.triu(np.ones(ext_player_attributes_data.shape), k=1).astype(bool))\n",
    "top_5_most_corr = ext_player_attributes_data.unstack().dropna().sort_values(ascending=False).head(5)\n",
    "top_correlated_features = [correlation[0] for correlation in top_5_most_corr.iteritems()]"
   ]
  },
  {
   "cell_type": "code",
   "execution_count": 3840,
   "id": "67acd6bf",
   "metadata": {},
   "outputs": [],
   "source": [
    "assert(len(top_correlated_features) == 5)\n",
    "assert(isinstance(top_correlated_features, list))\n",
    "for i in range(5):\n",
    "    assert(isinstance(top_correlated_features[i], tuple))\n",
    "    assert(isinstance(top_correlated_features[i][0], str))\n",
    "    assert(isinstance(top_correlated_features[i][1], str))"
   ]
  },
  {
   "cell_type": "markdown",
   "id": "7d3d8fd3",
   "metadata": {},
   "source": [
    "**Task 10 (2 points).** Find top-5 most similar players to **Neymar** whose names are given. The similarity is measured as [Euclidean distance](https://en.wikipedia.org/wiki/Euclidean_distance) between vectors of players' characteristics (described in the task above). Put their names in a vector in ascending order by Euclidean distance and sorted by `player_name` if the distance is the same<br>\n",
    "**Note 1:** There are many records for some players in the `Player_Attributes` table. You need to take the freshest data (characteristics with the most recent `date`). <br>\n",
    "**Note 2:** Use pure values of the characteristics even if you are aware of such preprocessing technics as normalization. <br>\n",
    "**Note 3:** Please avoid using any built-in methods for calculating the Euclidean distance between vectors, think about implementing your own."
   ]
  },
  {
   "cell_type": "code",
   "execution_count": 3917,
   "id": "fac5a571",
   "metadata": {},
   "outputs": [],
   "source": [
    "import math \n",
    "ext_player_attributes_data = player_attributes_data.merge(player_data, how=\"inner\", left_on=\"player_api_id\", right_on=\"player_api_id\").sort_values(\"date\", ascending=False).drop_duplicates(subset=[\"player_api_id\"], keep='first')\n",
    "neymar_p_join_pa = ext_player_attributes_data[ext_player_attributes_data[\"first_name\"]==\"Neymar\"]\n",
    "except_neymar_p_join_pa = pd.concat([ext_player_attributes_data, neymar_p_join_pa]).drop_duplicates(keep=False)\n",
    "\n",
    "player_attribute_data_cols = player_attributes_data.loc[:, ~player_attributes_data.columns.isin(['id', 'player_fifa_api_id', 'player_api_id', 'date', 'preferred_foot', 'attacking_work_rate', 'defensive_work_rate'])].columns.tolist()\n",
    "\n",
    "neymar_p_join_pa = neymar_p_join_pa[player_attribute_data_cols].to_numpy()[0]\n",
    "\n",
    "def euclidian_distance(row):\n",
    "  row[\"result\"] = np.sqrt(pow(row[player_attribute_data_cols].to_numpy() - neymar_p_join_pa, 2).sum())\n",
    "  return row\n",
    "\n",
    "neymar_similarities = except_neymar_p_join_pa.apply(euclidian_distance, axis=1).dropna(subset=[\"result\"]).sort_values(by=[\"result\", \"player_name\"]).head(5)[\"player_name\"].to_list()"
   ]
  },
  {
   "cell_type": "code",
   "execution_count": 3842,
   "id": "ddb1876a",
   "metadata": {},
   "outputs": [],
   "source": [
    "assert(len(neymar_similarities) == 5)\n",
    "assert(isinstance(neymar_similarities, list))\n",
    "for i in range(5):\n",
    "    assert(isinstance(neymar_similarities[i], str))"
   ]
  },
  {
   "cell_type": "markdown",
   "id": "a3a7f878",
   "metadata": {},
   "source": [
    "**Task 11 (1 point).** Calculate the number of home matches played by the **Borussia Dortmund** team in **Germany 1. Bundesliga** in season **2008/2009**"
   ]
  },
  {
   "cell_type": "code",
   "execution_count": 3927,
   "id": "bdf5a267",
   "metadata": {},
   "outputs": [
    {
     "name": "stdout",
     "output_type": "stream",
     "text": [
      "17\n"
     ]
    }
   ],
   "source": [
    "team_data = pd.read_sql(\"SELECT * FROM Team;\", db)\n",
    "team_league_matches = league_data[league_data[\"name\"]==\"Germany 1. Bundesliga\"].merge(match_data[match_data[\"season\"]==\"2008/2009\"].merge(team_data[team_data[\"team_long_name\"]==\"Borussia Dortmund\"], left_on=\"home_team_api_id\", right_on=\"team_api_id\"), left_on=\"id\", right_on=\"league_id\")\n",
    "borussia_bundesliga_2008_2009_matches = len(team_league_matches.index)"
   ]
  },
  {
   "cell_type": "code",
   "execution_count": 3844,
   "id": "488fdd4c",
   "metadata": {},
   "outputs": [],
   "source": [
    "assert(isinstance(borussia_bundesliga_2008_2009_matches, int))"
   ]
  },
  {
   "cell_type": "markdown",
   "id": "69dca9a5",
   "metadata": {},
   "source": [
    "**Task 12 (1 point).** Find a team having the most matches (both home and away!) in the **Germany 1. Bundesliga** in **2008/2009** season. Return number of matches."
   ]
  },
  {
   "cell_type": "code",
   "execution_count": 3935,
   "id": "9969ba5c",
   "metadata": {},
   "outputs": [],
   "source": [
    "league_match = league_data[league_data[\"name\"]==\"Germany 1. Bundesliga\"].merge(match_data[match_data[\"season\"]==\"2008/2009\"], left_on=\"id\", right_on=\"league_id\")\n",
    "home=league_match.merge(team_data, left_on=\"home_team_api_id\", right_on=\"team_api_id\").groupby(\"team_api_id\").size()\n",
    "away=league_match.merge(team_data, left_on=\"away_team_api_id\", right_on=\"team_api_id\").groupby(\"team_api_id\").size()\n",
    "team_most_matches_bundesliga_2008_2009 = (home+away).max().item() "
   ]
  },
  {
   "cell_type": "code",
   "execution_count": 3846,
   "id": "ef3b8fa2",
   "metadata": {},
   "outputs": [],
   "source": [
    "assert(isinstance(team_most_matches_bundesliga_2008_2009, int))"
   ]
  },
  {
   "cell_type": "markdown",
   "id": "2f3c65aa",
   "metadata": {},
   "source": [
    "**Task 13 (1 point).** Count total number of **Arsenal** matches (both home and away!) in the **2015/2016** season which they have won. <br><br>\n",
    "**Note:** Winning a game means scoring **more** goals than an opponent."
   ]
  },
  {
   "cell_type": "code",
   "execution_count": 3938,
   "id": "52456f34",
   "metadata": {},
   "outputs": [
    {
     "name": "stdout",
     "output_type": "stream",
     "text": [
      "20\n"
     ]
    }
   ],
   "source": [
    "arsenal_home = match_data[match_data[\"season\"]==\"2015/2016\"].merge(team_data[team_data[\"team_long_name\"]==\"Arsenal\"], left_on=\"home_team_api_id\", right_on=\"team_api_id\")\n",
    "arsenal_away = match_data[match_data[\"season\"]==\"2015/2016\"].merge(team_data[team_data[\"team_long_name\"]==\"Arsenal\"], left_on=\"away_team_api_id\", right_on=\"team_api_id\")\n",
    "arsenal_won_matches_2015_2016 = len(arsenal_away[arsenal_away[\"away_team_goal\"]>arsenal_away[\"home_team_goal\"]].index) + len(arsenal_home[arsenal_home[\"home_team_goal\"]>arsenal_home[\"away_team_goal\"]].index)"
   ]
  },
  {
   "cell_type": "code",
   "execution_count": 3848,
   "id": "214d9689",
   "metadata": {},
   "outputs": [],
   "source": [
    "assert(isinstance(arsenal_won_matches_2015_2016, int))"
   ]
  },
  {
   "cell_type": "markdown",
   "id": "d70d5b23",
   "metadata": {},
   "source": [
    "**Task 14 (2 points).** Find a team with the highest win rate in the **2015/2016** season. Win rate means won matches / all matches. If there are several teams with the highest win rate return the first by name in lexical order"
   ]
  },
  {
   "cell_type": "code",
   "execution_count": 3947,
   "id": "b1aa7db0",
   "metadata": {},
   "outputs": [],
   "source": [
    "home = match_data[match_data[\"season\"]==\"2015/2016\"].merge(team_data, left_on=\"home_team_api_id\", right_on=\"team_api_id\")[[\"team_long_name\", \"home_team_goal\", \"away_team_goal\"]]\n",
    "away = match_data[match_data[\"season\"]==\"2015/2016\"].merge(team_data, left_on=\"away_team_api_id\", right_on=\"team_api_id\")[[\"team_long_name\", \"home_team_goal\", \"away_team_goal\"]]\n",
    "total_home = home.groupby(\"team_long_name\").size()\n",
    "total_away = away.groupby(\"team_long_name\").size()\n",
    "won_home = home[home[\"home_team_goal\"]>home[\"away_team_goal\"]].groupby(\"team_long_name\").size()\n",
    "won_away = away[away[\"away_team_goal\"]>away[\"home_team_goal\"]].groupby(\"team_long_name\").size()\n",
    "won = won_home + won_away\n",
    "total = total_home + total_away\n",
    "team_highest_winrate_2015_2016 = (won/total).idxmax()"
   ]
  },
  {
   "cell_type": "code",
   "execution_count": 3850,
   "id": "b4cc8e46",
   "metadata": {},
   "outputs": [],
   "source": [
    "assert(isinstance(team_highest_winrate_2015_2016, str))"
   ]
  },
  {
   "cell_type": "markdown",
   "id": "f7f3b4f5",
   "metadata": {},
   "source": [
    "**Task 15 (2 points).** Determine the team with the maximum days' gap between matches in **England Premier League 2010/2011 season**. Return number of days in that gap. <br>\n",
    "**Note**: a *gap* means the number of days between two consecutive matches of the same team."
   ]
  },
  {
   "cell_type": "code",
   "execution_count": 3959,
   "id": "a4c33e5f",
   "metadata": {},
   "outputs": [],
   "source": [
    "match_data['date'] = pd.to_datetime(match_data['date'])\n",
    "season_all_sorted = league_data[league_data[\"name\"]==\"England Premier League\"].merge(match_data[match_data[\"season\"]==\"2010/2011\"], left_on=\"id\", right_on=\"league_id\").sort_values(\"date\")\n",
    "home=season_all_sorted.groupby(\"home_team_api_id\")[\"home_team_api_id\"].size()\n",
    "away=season_all_sorted.groupby(\"away_team_api_id\")[\"away_team_api_id\"].size()\n",
    "teams = (home+away).index.tolist()\n",
    "\n",
    "highest_gap_england_2010_2011 = max([season_all_sorted[(season_all_sorted[\"home_team_api_id\"]==team) | (season_all_sorted[\"away_team_api_id\"]==team)][\"date\"].diff().max().days for team in teams])"
   ]
  },
  {
   "cell_type": "code",
   "execution_count": 3852,
   "id": "5f7aa84e",
   "metadata": {},
   "outputs": [],
   "source": [
    "assert(isinstance(highest_gap_england_2010_2011, int))"
   ]
  },
  {
   "cell_type": "markdown",
   "id": "acecc77f",
   "metadata": {},
   "source": [
    "### Warning! Do not change anything in the area below"
   ]
  },
  {
   "cell_type": "code",
   "execution_count": 3853,
   "id": "94c3b9be",
   "metadata": {},
   "outputs": [],
   "source": [
    "with open('student_answers.txt', 'w') as file:\n",
    "    file.write(f\"{players_180_190}\\n\")\n",
    "    file.write(f\"{players_1980}\\n\")\n",
    "    file.write(f\"{highest_players}\\n\")\n",
    "    file.write(f\"{years_born_players}\\n\")\n",
    "    file.write(f\"{round(adriano_mean, 3)} {round(adriano_std, 3)}\\n\")\n",
    "    file.write(f\"{dow_with_min_players_born}\\n\")\n",
    "    file.write(f\"{league_most_matches}\\n\")\n",
    "    file.write(f\"{max_matches_player}\\n\")\n",
    "    file.write(f\"{';'.join(['%s,%s' % tup for tup in top_correlated_features])};\\n\")\n",
    "    file.write(f\"{neymar_similarities}\\n\")\n",
    "    file.write(f\"{borussia_bundesliga_2008_2009_matches}\\n\")\n",
    "    file.write(f\"{team_most_matches_bundesliga_2008_2009}\\n\")\n",
    "    file.write(f\"{arsenal_won_matches_2015_2016}\\n\")\n",
    "    file.write(f\"{team_highest_winrate_2015_2016}\\n\")\n",
    "    file.write(f\"{highest_gap_england_2010_2011}\\n\")"
   ]
  }
 ],
 "metadata": {
  "kernelspec": {
   "display_name": "Python 3 (ipykernel)",
   "language": "python",
   "name": "python3"
  },
  "language_info": {
   "codemirror_mode": {
    "name": "ipython",
    "version": 3
   },
   "file_extension": ".py",
   "mimetype": "text/x-python",
   "name": "python",
   "nbconvert_exporter": "python",
   "pygments_lexer": "ipython3",
   "version": "3.8.10"
  }
 },
 "nbformat": 4,
 "nbformat_minor": 5
}
